{
 "cells": [
  {
   "cell_type": "code",
   "execution_count": 4,
   "metadata": {},
   "outputs": [],
   "source": [
    "import os\n",
    "import numpy as np\n",
    "import os\n",
    "import torch\n",
    "import torch.nn as nn\n",
    "from torch.utils.data import Dataset, DataLoader\n",
    "from torchvision.utils import save_image\n",
    "from torch.utils.data import random_split\n",
    "\n",
    "import torchattacks\n",
    "\n",
    "from tqdm import tqdm\n",
    "import math\n",
    "import random\n",
    "import csv\n",
    "import torchvision.transforms as transforms\n",
    "from PIL import Image"
   ]
  },
  {
   "cell_type": "markdown",
   "metadata": {},
   "source": [
    "## Set Seeds"
   ]
  },
  {
   "cell_type": "code",
   "execution_count": 5,
   "metadata": {},
   "outputs": [],
   "source": [
    "def same_seeds(seed):\n",
    "    random.seed(seed)\n",
    "    np.random.seed(seed)\n",
    "    torch.manual_seed(seed)\n",
    "    if torch.cuda.is_available():\n",
    "        torch.cuda.manual_seed(seed)\n",
    "        torch.cuda.manual_seed_all(seed)\n",
    "    torch.backends.cudnn.benchmark = False\n",
    "    torch.backends.cudnn.deterministic = True"
   ]
  },
  {
   "cell_type": "markdown",
   "metadata": {},
   "source": [
    "## Datasets class"
   ]
  },
  {
   "cell_type": "code",
   "execution_count": 6,
   "metadata": {},
   "outputs": [],
   "source": [
    "class Cifar100(Dataset):\n",
    "    def __init__(self, data, labels):\n",
    "        super(Cifar100, self).__init__()\n",
    "        self.data = data\n",
    "        self.labels = labels\n",
    "        self.datasize = len(self.data)\n",
    "\n",
    "    def __getitem__(self, idx):\n",
    "        return self.data[idx], self.labels[idx]\n",
    "\n",
    "\n",
    "    def __len__(self):\n",
    "        return self.datasize"
   ]
  },
  {
   "cell_type": "markdown",
   "metadata": {},
   "source": [
    "## Configs"
   ]
  },
  {
   "cell_type": "code",
   "execution_count": 372,
   "metadata": {},
   "outputs": [],
   "source": [
    "config = {\n",
    "    \"batch_size\": 1,\n",
    "    \"model_type\": \"ensemble\",\n",
    "    \"attack\": \"DIFGSM\",\n",
    "    \"data_filepath\": \"./cifar-100_eval\",\n",
    "    \"current_dir\": \"./\",\n",
    "    \"save_dir\": \"adv_imgs\",\n",
    "    \"output_filepath\": \"./adv_imgs\",\n",
    "    \"lr\": 0.002,\n",
    "    \"epoch\" : 5,\n",
    "    # \"steps\": 8,\n",
    "    \"epsilon\": 12 / 255,\n",
    "    \"decay\": 0.9,\n",
    "    \"seeds\": 10901036\n",
    "}\n",
    "# config[\"alpha\"] = config[\"epsilon\"] / config[\"steps\"]\n",
    "device = 'cuda' if torch.cuda.is_available() else 'cpu'"
   ]
  },
  {
   "cell_type": "markdown",
   "metadata": {},
   "source": [
    "## Load Datasets"
   ]
  },
  {
   "cell_type": "code",
   "execution_count": 373,
   "metadata": {},
   "outputs": [],
   "source": [
    "same_seeds(config[\"seeds\"])\n",
    "training_files = sorted([os.path.join(config[\"data_filepath\"],x) for x in os.listdir(config[\"data_filepath\"]) if (x.endswith(\".png\") and (x.split('/')[-1].split('_')[1][0] == str(0) or x.split('/')[-1].split('_')[1][0] == str(1)))])\n",
    "training_imgs = torch.stack([transforms.ToTensor()(Image.open(filename)) for filename in training_files])\n",
    "training_labels = torch.tensor([int(filename.split('/')[-1].split('_')[0]) for filename in training_files], dtype=torch.long)\n",
    "\n",
    "trainLoader = DataLoader(Cifar100(training_imgs, training_labels), batch_size=config[\"batch_size\"], shuffle=False)\n"
   ]
  },
  {
   "cell_type": "markdown",
   "metadata": {},
   "source": [
    "## Model(s)"
   ]
  },
  {
   "cell_type": "code",
   "execution_count": 374,
   "metadata": {},
   "outputs": [],
   "source": [
    "from pytorchcv.model_provider import get_model as ptcv_get_model\n",
    "class Ensemble(nn.Module):\n",
    "    def __init__(self, model_names):\n",
    "        super(Ensemble, self).__init__()\n",
    "        # print(model_names)\n",
    "        self.models = nn.ModuleList([ptcv_get_model(model_name, pretrained=True).to(device) for model_name in model_names])\n",
    "\n",
    "    def forward(self, x):\n",
    "        y = [model(x) for model in self.models]\n",
    "        y = torch.stack(y, dim=1).mean(dim=1)\n",
    "        return y\n"
   ]
  },
  {
   "cell_type": "code",
   "execution_count": 375,
   "metadata": {},
   "outputs": [],
   "source": [
    "training_models = ['resnet20_cifar100']\n",
    "victim_models = [\"resnet20_cifar100\"]"
   ]
  },
  {
   "cell_type": "markdown",
   "metadata": {},
   "source": [
    "## Attack"
   ]
  },
  {
   "cell_type": "code",
   "execution_count": 376,
   "metadata": {},
   "outputs": [],
   "source": [
    "def UniversalAttack(model, trainLoader, criterion, config):\n",
    "    model.eval()\n",
    "    perturbation = torch.zeros((config[\"batch_size\"], 3, 32, 32), requires_grad=True, device=device)\n",
    "    optimizer = torch.optim.Adam([perturbation], lr=config[\"lr\"])\n",
    "    # scheduler = torch.optim.lr_scheduler.StepLR(optimizer, step_size=10, gamma=0.1)\n",
    "    for _ in tqdm(range(config[\"epoch\"])):\n",
    "        for data in tqdm(trainLoader):\n",
    "            img, label = data\n",
    "            img, label = img.to(device), label.to(device)\n",
    "            adv_img = img + perturbation\n",
    "            output = model(adv_img)\n",
    "            loss = -criterion(output, label)\n",
    "            optimizer.zero_grad() \n",
    "            loss.backward()\n",
    "            optimizer.step()\n",
    "            # scheduler.step()\n",
    "            perturbation.data = torch.clamp(perturbation.data, -config[\"epsilon\"], config[\"epsilon\"])\n",
    "        # print(loss)\n",
    "\n",
    "    assert config[\"batch_size\"]==1 , \"batch size should be 1\" # only support batch size 1\n",
    "    perturbation.reshape(3, 32, 32)\n",
    "    # save the perturbation with linear shift\n",
    "    shift = torch.ones((3, 32, 32), device=device) * config[\"epsilon\"]\n",
    "    # set require_grad to False\n",
    "    perturb = perturbation.detach()\n",
    "    perturb += shift\n",
    "    print(torch.max(perturb), torch.min(perturb))\n",
    "    save_image(perturb, \"./universal.png\")\n",
    "    return perturb"
   ]
  },
  {
   "cell_type": "code",
   "execution_count": 377,
   "metadata": {},
   "outputs": [],
   "source": [
    "if config[\"model_type\"] == \"ensemble\":\n",
    "    model_names = training_models\n",
    "    # with open(\"attack_info.txt\", 'w') as f:\n",
    "    #     f.write(f\"Attack: DIFGSM \\nEpsilon: {config['epsilon']}\\nModel_type: {config['model_type']}\\nDecay: {config['decay']}\\nSteps: {config['steps']}\\nModel_type: {config['model_type']}\\nModel: {model_names}\\n\")\n",
    "    ensemble_model = Ensemble(model_names)\n"
   ]
  },
  {
   "cell_type": "markdown",
   "metadata": {},
   "source": [
    "## Criterion"
   ]
  },
  {
   "cell_type": "code",
   "execution_count": 378,
   "metadata": {},
   "outputs": [],
   "source": [
    "criterion = nn.CrossEntropyLoss()"
   ]
  },
  {
   "cell_type": "code",
   "execution_count": 379,
   "metadata": {},
   "outputs": [
    {
     "name": "stderr",
     "output_type": "stream",
     "text": [
      "100%|██████████| 200/200 [00:02<00:00, 95.29it/s] \n",
      "100%|██████████| 200/200 [00:02<00:00, 92.85it/s]\n",
      "100%|██████████| 200/200 [00:02<00:00, 79.82it/s]\n",
      "100%|██████████| 200/200 [00:02<00:00, 67.12it/s]\n",
      "100%|██████████| 200/200 [00:02<00:00, 67.75it/s]\n",
      "100%|██████████| 5/5 [00:12<00:00,  2.54s/it]"
     ]
    },
    {
     "name": "stdout",
     "output_type": "stream",
     "text": [
      "tensor(0.0941) tensor(0.)\n"
     ]
    },
    {
     "name": "stderr",
     "output_type": "stream",
     "text": [
      "\n"
     ]
    }
   ],
   "source": [
    "# universal attack\n",
    "perturbation = UniversalAttack(ensemble_model, trainLoader, criterion, config)\n",
    "    \n",
    "if perturbation == None:\n",
    "    print(\"No model found.\")\n",
    "    exit()"
   ]
  },
  {
   "cell_type": "markdown",
   "metadata": {},
   "source": [
    "## Test Accuracies"
   ]
  },
  {
   "cell_type": "code",
   "execution_count": 380,
   "metadata": {},
   "outputs": [
    {
     "name": "stderr",
     "output_type": "stream",
     "text": [
      "200it [00:03, 58.41it/s]"
     ]
    },
    {
     "name": "stdout",
     "output_type": "stream",
     "text": [
      "Accuracy on original images: 50.00%\n",
      "Accuracy on perturbed images: 1.50%\n"
     ]
    },
    {
     "name": "stderr",
     "output_type": "stream",
     "text": [
      "\n"
     ]
    }
   ],
   "source": [
    "test_model_names = victim_models\n",
    "ensemble_model = Ensemble(test_model_names)\n",
    "\n",
    "def evaluate(model, trainLoader, perturbation, device):\n",
    "    perturbation.reshape(config[\"batch_size\"], 3, 32, 32)\n",
    "    model.eval() # Set your model to evaluation mode.\n",
    "    org_acc = 0\n",
    "    atk_acc = 0\n",
    "    for batch, data in tqdm(enumerate(trainLoader)):\n",
    "        img, label = data\n",
    "        img, label = img.to(device), label.to(device)\n",
    "        perturbed_inputs = img + perturbation\n",
    "\n",
    "        outputs = model(img)\n",
    "        _, predicted = torch.max(outputs.data, 1)\n",
    "        org_acc += (predicted == label).sum().item()\n",
    "        \n",
    "        outputs = model(perturbed_inputs)\n",
    "        _, predicted = torch.max(outputs.data, 1)\n",
    "        atk_acc += (predicted == label).sum().item()\n",
    "    org_acc = org_acc / trainLoader.dataset.datasize\n",
    "    atk_acc = atk_acc / trainLoader.dataset.datasize\n",
    "    print('Accuracy on original images: {:.2f}%'.format(100 * org_acc))\n",
    "    print('Accuracy on perturbed images: {:.2f}%'.format(100 * atk_acc))\n",
    "\n",
    "evaluate(ensemble_model, trainLoader, perturbation, device)"
   ]
  },
  {
   "cell_type": "code",
   "execution_count": 381,
   "metadata": {},
   "outputs": [],
   "source": [
    "def checkOutput(adv_images, eval_images):\n",
    "    # check if adv_img 0~255\n",
    "    assert torch.max(adv_images) <= 1\n",
    "    assert torch.min(adv_images) >= 0\n",
    "    # check if adv_img are in the range of epsilon from eval_img\n",
    "    diff = torch.abs(adv_images - eval_images)\n",
    "    print( torch.max(diff))\n",
    "    print(config[\"epsilon\"])"
   ]
  }
 ],
 "metadata": {
  "kernelspec": {
   "display_name": "SPML_HW2",
   "language": "python",
   "name": "python3"
  },
  "language_info": {
   "codemirror_mode": {
    "name": "ipython",
    "version": 3
   },
   "file_extension": ".py",
   "mimetype": "text/x-python",
   "name": "python",
   "nbconvert_exporter": "python",
   "pygments_lexer": "ipython3",
   "version": "3.10.14"
  }
 },
 "nbformat": 4,
 "nbformat_minor": 2
}
